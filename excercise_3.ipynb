{
 "cells": [
  {
   "cell_type": "markdown",
   "metadata": {},
   "source": [
    "<img src=\"images/oasis-lmf-colour.png\" alt=\"Oasis LMF logo\" width=\"250\" align=\"left\"/>\n",
    "<br><br><br>\n",
    "\n",
    "# Excercise 3: Using code to adjust a model.\n",
    "\n",
    "## Exercise goals\n",
    "* Use Python code to adjust the model files for an example model"
   ]
  },
  {
   "cell_type": "code",
   "execution_count": null,
   "metadata": {},
   "outputs": [],
   "source": [
    "%config IPCompleter.greedy=True"
   ]
  },
  {
   "cell_type": "code",
   "execution_count": null,
   "metadata": {},
   "outputs": [],
   "source": [
    "import pandas as pd\n",
    "import jupyter_helper\n",
    "import pandas as pd\n",
    "\n",
    "import matplotlib as mpl\n",
    "import matplotlib.pyplot as plt\n",
    "import geopandas as gpd\n",
    "import math\n",
    "import numpy as np\n",
    "import json\n",
    "import seaborn as sns\n",
    "import folium\n",
    "import os\n",
    "from shapely.geometry import Point, Polygon\n",
    "from numpy import linspace\n",
    "from bokeh.io import output_file, show, output_notebook\n",
    "from bokeh.models import ColumnDataSource, FixedTicker, PrintfTickFormatter\n",
    "from bokeh.plotting import figure\n",
    "import branca.colormap as cm\n",
    "\n",
    "# Output Bokeh charts to notebook, rather than opening a browser window\n",
    "output_notebook()"
   ]
  },
  {
   "cell_type": "markdown",
   "metadata": {},
   "source": [
    "## Read in the vulnerability data for the model"
   ]
  },
  {
   "cell_type": "code",
   "execution_count": null,
   "metadata": {},
   "outputs": [],
   "source": [
    "vulnerabilities = pd.read_csv(\"./model_data/MEEQ/vulnerability_subset.csv\")\n",
    "vulnerabilities.head()"
   ]
  },
  {
   "cell_type": "code",
   "execution_count": null,
   "metadata": {},
   "outputs": [],
   "source": [
    "vulnerabilities.vulnerability_id.unique()"
   ]
  },
  {
   "cell_type": "code",
   "execution_count": null,
   "metadata": {},
   "outputs": [],
   "source": [
    "! rm -rf /tmp/analysis_test\n",
    "! oasislmf model run -C oasislmf.json -r /tmp/analysis_test > /tmp/analysis.log\n",
    "analysis_directory = \"/tmp/analysis_test\"\n",
    "gul_oep1 = pd.read_csv(os.path.join(analysis_directory, \"output\", \"gul_S1_leccalc_full_uncertainty_oep.csv\"))\n",
    "gul_oep1"
   ]
  },
  {
   "cell_type": "markdown",
   "metadata": {},
   "source": [
    "Using the jupyter helper functions, we can edit the data directly in a worksheet then save it back to file.\n",
    "Pick one vulnerability ID and intensity level and collapse all of the probability mass into one bin.  "
   ]
  },
  {
   "cell_type": "code",
   "execution_count": null,
   "metadata": {},
   "outputs": [],
   "source": [
    "vulnerabilities_grid = jupyter_helper.show_df(vulnerabilities)\n",
    "vulnerabilities_grid"
   ]
  },
  {
   "cell_type": "code",
   "execution_count": null,
   "metadata": {},
   "outputs": [],
   "source": [
    "vulnerabilities = vulnerabilities_grid.get_changed_df()\n",
    "vulnerabilities.to_csv(\"/tmp/vulnerability.csv\", index=False)\n",
    "! vulnerabilitytobin -d 52 < /tmp/vulnerability.csv > ./model_data/MEEQ/vulnerability.bin"
   ]
  },
  {
   "cell_type": "code",
   "execution_count": null,
   "metadata": {},
   "outputs": [],
   "source": [
    "! vulnerabilitytobin -d 52 < ./model_data/MEEQ/vulnerability_subset.csv > ./model_data/MEEQ/vulnerability.bin"
   ]
  },
  {
   "cell_type": "code",
   "execution_count": null,
   "metadata": {},
   "outputs": [],
   "source": [
    "! rm -rf /tmp/analysis_test\n",
    "! oasislmf model run -C oasislmf.json -r /tmp/analysis_test > /tmp/analysis.log\n",
    "gul_oep2 = pd.read_csv(os.path.join(analysis_directory, \"output\", \"gul_S1_leccalc_full_uncertainty_oep.csv\"))\n",
    "gul_oep2"
   ]
  },
  {
   "cell_type": "markdown",
   "metadata": {},
   "source": [
    "Adjusting the data by hand is tedious. \n",
    "The following code will adjust the vulnerability curves to put all the probability mass in the modal damage bin."
   ]
  },
  {
   "cell_type": "code",
   "execution_count": null,
   "metadata": {},
   "outputs": [],
   "source": [
    "# find the mode of the vulnerabilities\n",
    "vulnerability_max = pd.DataFrame(\n",
    "    {'probability' : vulnerabilities.groupby(\n",
    "        ['vulnerability_id', 'intensity_bin_id'] )['probability'].max()\n",
    "    }).reset_index()\n",
    "adjusted_vulnerabilities = vulnerabilities.merge(\n",
    "    vulnerability_max, \n",
    "    left_on=['vulnerability_id', 'intensity_bin_id', 'probability'], \n",
    "    right_on=['vulnerability_id', 'intensity_bin_id', 'probability'])\n",
    "adjusted_vulnerabilities.probability = 1.0\n",
    "adjusted_vulnerabilities"
   ]
  },
  {
   "cell_type": "code",
   "execution_count": null,
   "metadata": {},
   "outputs": [],
   "source": [
    "adjusted_vulnerabilities.to_csv(\"/tmp/vulnerability.csv\", index=False)\n",
    "! vulnerabilitytobin -d 52 < /tmp/vulnerability.csv > ./model_data/MEEQ/vulnerability.bin"
   ]
  },
  {
   "cell_type": "code",
   "execution_count": null,
   "metadata": {},
   "outputs": [],
   "source": [
    "! rm -rf /tmp/analysis_test\n",
    "! oasislmf model run -C oasislmf.json -r /tmp/analysis_test > /tmp/analysis.log\n",
    "gul_oep3 = pd.read_csv(os.path.join(analysis_directory, \"output\", \"gul_S1_leccalc_full_uncertainty_oep.csv\"))\n",
    "gul_oep3"
   ]
  }
 ],
 "metadata": {
  "kernelspec": {
   "display_name": "ZurichWorkshop2018",
   "language": "python",
   "name": "zurichworkshop2018"
  },
  "language_info": {
   "codemirror_mode": {
    "name": "ipython",
    "version": 3
   },
   "file_extension": ".py",
   "mimetype": "text/x-python",
   "name": "python",
   "nbconvert_exporter": "python",
   "pygments_lexer": "ipython3",
   "version": "3.6.4"
  }
 },
 "nbformat": 4,
 "nbformat_minor": 2
}
