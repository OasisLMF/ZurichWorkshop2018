{
 "cells": [
  {
   "cell_type": "markdown",
   "metadata": {},
   "source": [
    "<img src=\"images/oasis-lmf-colour.png\" alt=\"Oasis LMF logo\" width=\"250\" align=\"left\"/>\n",
    "<br><br><br>\n",
    "\n",
    "# Excercise 1:  Introduction to the Oasis Model Development Kit (MDK).\n",
    "\n",
    "The MDK is a Python based toolkit that allows Oasis models to be executed locally, using the same data formats and execution components as in the Oasis platform. The MDK is available as a Python package on PYPI. Currently the MDK only supports ground up loss calculations, and insured loss calculations from the Oasis platform will be integrated in the coming months.\n",
    "\n",
    "The main goal of the MDK is to streamline the model development and test process. This can all be ran on an analysis server, with no need to access a deployed Oasis platform. In addition, having full modelling capabilities available programatically provides great potential for advanced analytics and data visualization, especially when combined with a modern data science toolkit.\n",
    "\n",
    "The first version of the MDK was released in early 2018 and it has been used on several model development projects. We are keen to get feedback on usability and ideas for other useful features. \n",
    "\n",
    "## Excercise goals\n",
    "* Understand the Oasis analysis flow\n",
    "* Understand the functionality provided by the \"oasislmf model\" sub-commands\n",
    "* Understand the configuration options of the \"oasislmf model\" sub-commands"
   ]
  },
  {
   "cell_type": "markdown",
   "metadata": {},
   "source": [
    "## Oasis analysis flow\n",
    "\n",
    "<img src=\"images/mdk_flow.png\" alt=\"MDK\" width=\"100%\"/>\n",
    "\n",
    "The modelling capabilities of the MDK are exposed by the \"oasislmf model\" sub-commands. The list of commands are:\n",
    "\n",
    "#### oasislmf model generate-oasis-files\n",
    "Test the generation of the analysis input files for an exposure set.\n",
    "\n",
    "#### oasislmf model generate-losses\n",
    "Test the generation of ground up losses and metrics for a set of analysis input files.\n",
    "\n",
    "#### oasislmf model run\n",
    "Test the generation of ground up losses and metrics for an exposure set. This essentially chains the other commands together.\n",
    "\n",
    "The inputs/ouputs are:\n",
    "\n",
    "#### A\n",
    "* source_exposures_validation_file_path\n",
    "    File path to schema for validating source exposure, in XSD format.\n",
    "* source_to_canonical_exposures_transformation_file_path\n",
    " \tFile path to transform to select and store a subset of the source exposure, in XSLT format.\n",
    "* canonical_exposures_profile_json_path\n",
    " \tFile path to profile that describes the structure of the stored data.\n",
    "* canonical_exposures_validation_file_path\n",
    " \tFile path to schema for validating stored exposure, in XSD format.\n",
    "* canonical_to_model_exposures_transformation_file_path\n",
    " \tFile path to transform to select a subset of the stored exposure for invoking the keys lookup logic, in XSD format.\n",
    "    \n",
    "#### B\n",
    "* model_exposures_file_path\n",
    "    File path to the inputs to the model keys lookup class in CSV format.\n",
    "\n",
    "#### C\n",
    "* keys_data_path\n",
    "    Path to directory containing data files required by the model keys lookup class.\n",
    "\n",
    "#### D\n",
    "* keys_file_path\n",
    "    Path for the file containing keys for locations with successful lookups.\n",
    "\n",
    "#### E\n",
    "* keys_error_file_path\n",
    "    Path for the file containing keys for locations with failing or non-matching looups.\n",
    "\n",
    "#### F\n",
    "* oasis-files-path \n",
    "    Path to Oasis files, the analysis inputs in ktools format.\n",
    "\n",
    "#### G\n",
    "* model_data_path\n",
    "    Path to directory containing the model data.\n",
    "    \n",
    "Note there are additional commands for more granular functionality and data manipulation that we will not cover today."
   ]
  },
  {
   "cell_type": "code",
   "execution_count": null,
   "metadata": {},
   "outputs": [],
   "source": [
    "%config IPCompleter.greedy=True"
   ]
  },
  {
   "cell_type": "code",
   "execution_count": null,
   "metadata": {},
   "outputs": [],
   "source": [
    "! oasislmf version"
   ]
  },
  {
   "cell_type": "code",
   "execution_count": null,
   "metadata": {},
   "outputs": [],
   "source": [
    "! oasislmf model --help"
   ]
  },
  {
   "cell_type": "markdown",
   "metadata": {},
   "source": [
    "## generate-oasis-files command"
   ]
  },
  {
   "cell_type": "code",
   "execution_count": null,
   "metadata": {},
   "outputs": [],
   "source": [
    "! oasislmf model generate-oasis-files --help"
   ]
  },
  {
   "cell_type": "code",
   "execution_count": null,
   "metadata": {},
   "outputs": [],
   "source": [
    "! oasislmf model generate-oasis-files \\\n",
    "    -o \"oasis_files\" \\\n",
    "    -k \"keys_data/MEEQ\" \\\n",
    "    -v \"keys_data/MEEQ/ModelVersion.csv\" \\\n",
    "    -p \"catrisks-meeq-canonical-loc-profile.json\" \\\n",
    "    -e \"source_data/MEEQ_loc.csv\" \\\n",
    "    -a \"validation_files/Catrisks_SourceLoc.xsd\" \\\n",
    "    -b \"transformation_files/MappingMapToCatrisks_CanLoc_A.xslt\" \\\n",
    "    -c \"validation_files/Catrisks_CanLoc_B.xsd\" \\\n",
    "    -d \"transformation_files/MappingMapToCatrisks_ModelLoc.xslt\"\n"
   ]
  },
  {
   "cell_type": "markdown",
   "metadata": {},
   "source": [
    "## generate-losses command"
   ]
  },
  {
   "cell_type": "code",
   "execution_count": null,
   "metadata": {},
   "outputs": [],
   "source": [
    "! oasislmf model generate-losses --help"
   ]
  },
  {
   "cell_type": "code",
   "execution_count": null,
   "metadata": {},
   "outputs": [],
   "source": [
    "! rm -rf /tmp/run\n",
    "! oasislmf model generate-losses \\\n",
    "    -o \"oasis_files\" \\\n",
    "    -j \"analysis_settings.json\" \\\n",
    "    -m \"model_data/MEEQ\" \\\n",
    "    -r \"/tmp/run\""
   ]
  },
  {
   "cell_type": "markdown",
   "metadata": {},
   "source": [
    "## run command"
   ]
  },
  {
   "cell_type": "code",
   "execution_count": null,
   "metadata": {},
   "outputs": [],
   "source": [
    "! oasislmf model run --help"
   ]
  },
  {
   "cell_type": "code",
   "execution_count": null,
   "metadata": {},
   "outputs": [],
   "source": [
    "! rm -rf /tmp/run\n",
    "! oasislmf model run \\\n",
    "    -k \"keys_data/MEEQ\" \\\n",
    "    -v \"keys_data/MEEQ/ModelVersion.csv\" \\\n",
    "    -p \"catrisks-meeq-canonical-loc-profile.json\" \\\n",
    "    -e \"source_data/MEEQ_loc.csv\" \\\n",
    "    -a \"validation_files/Catrisks_SourceLoc.xsd\" \\\n",
    "    -b \"transformation_files/MappingMapToCatrisks_CanLoc_A.xslt\" \\\n",
    "    -c \"validation_files/Catrisks_CanLoc_B.xsd\" \\\n",
    "    -d \"transformation_files/MappingMapToCatrisks_ModelLoc.xslt\" \\\n",
    "    -j \"analysis_settings.json\" \\\n",
    "    -m \"model_data/MEEQ\" \\\n",
    "    -r \"/tmp/run\""
   ]
  },
  {
   "cell_type": "markdown",
   "metadata": {},
   "source": [
    "## Using the oasislmf.json model configuration file"
   ]
  },
  {
   "cell_type": "code",
   "execution_count": null,
   "metadata": {},
   "outputs": [],
   "source": [
    "import json\n",
    "with open('./oasislmf.json', 'r') as myfile:\n",
    "    analysis_settings=json.loads(myfile.read().replace('\\n', ''))\n",
    "print(json.dumps(analysis_settings, indent=True))"
   ]
  },
  {
   "cell_type": "code",
   "execution_count": null,
   "metadata": {},
   "outputs": [],
   "source": [
    "! rm -rf /tmp/analysis_test\n",
    "! oasislmf model run -e \"source_data/MEEQ_loc.csv\" -r /tmp/analysis_test"
   ]
  },
  {
   "cell_type": "code",
   "execution_count": null,
   "metadata": {},
   "outputs": [],
   "source": []
  }
 ],
 "metadata": {
  "kernelspec": {
   "display_name": "ZurichWorkshop2018",
   "language": "python",
   "name": "zurichworkshop2018"
  },
  "language_info": {
   "codemirror_mode": {
    "name": "ipython",
    "version": 2
   },
   "file_extension": ".py",
   "mimetype": "text/x-python",
   "name": "python",
   "nbconvert_exporter": "python",
   "pygments_lexer": "ipython2",
   "version": "2.7.12"
  }
 },
 "nbformat": 4,
 "nbformat_minor": 2
}
