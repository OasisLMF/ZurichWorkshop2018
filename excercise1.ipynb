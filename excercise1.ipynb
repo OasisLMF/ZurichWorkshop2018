{
 "cells": [
  {
   "cell_type": "code",
   "execution_count": 1,
   "metadata": {},
   "outputs": [],
   "source": [
    "%config IPCompleter.greedy=True"
   ]
  },
  {
   "cell_type": "code",
   "execution_count": 2,
   "metadata": {},
   "outputs": [],
   "source": [
    "import json"
   ]
  },
  {
   "cell_type": "code",
   "execution_count": 3,
   "metadata": {},
   "outputs": [
    {
     "name": "stdout",
     "output_type": "stream",
     "text": [
      "1.1.19\r\n"
     ]
    }
   ],
   "source": [
    "! oasislmf version"
   ]
  },
  {
   "cell_type": "code",
   "execution_count": 4,
   "metadata": {},
   "outputs": [
    {
     "name": "stdout",
     "output_type": "stream",
     "text": [
      "usage: oasislmf model [-h] [-V] [-C CONFIG]\r\n",
      "                      {generate-peril-areas-rtree-file-index,transform-source-to-canonical,transform-canonical-to-model,generate-keys,generate-oasis-files,generate-losses,run}\r\n",
      "                      ...\r\n",
      "\r\n",
      "positional arguments:\r\n",
      "  {generate-peril-areas-rtree-file-index,transform-source-to-canonical,transform-canonical-to-model,generate-keys,generate-oasis-files,generate-losses,run}\r\n",
      "    generate-peril-areas-rtree-file-index\r\n",
      "                        generate-peril-areas-rtree-file-index\r\n",
      "    transform-source-to-canonical\r\n",
      "                        transform-source-to-canonical\r\n",
      "    transform-canonical-to-model\r\n",
      "                        transform-canonical-to-model\r\n",
      "    generate-keys       generate-keys\r\n",
      "    generate-oasis-files\r\n",
      "                        generate-oasis-files\r\n",
      "    generate-losses     generate-losses\r\n",
      "    run                 run\r\n",
      "\r\n",
      "optional arguments:\r\n",
      "  -h, --help            show this help message and exit\r\n",
      "  -V, --verbose         Use verbose logging.\r\n",
      "  -C CONFIG, --config CONFIG\r\n",
      "                        The oasislmf config to load\r\n"
     ]
    }
   ],
   "source": [
    "! oasislmf model --help"
   ]
  },
  {
   "cell_type": "code",
   "execution_count": 6,
   "metadata": {
    "scrolled": true
   },
   "outputs": [
    {
     "name": "stdout",
     "output_type": "stream",
     "text": [
      "\n",
      "Getting model info and lookup\n",
      "STARTED: oasislmf.keys.lookup.__init__\n",
      "STARTED: oasislmf.keys.lookup.__init__\n",
      "FINISHED: oasislmf.keys.lookup.__init__ in 0.0s\n",
      "STARTED: oasislmf.keys.lookup.__init__\n",
      "STARTED: oasislmf.keys.lookup.__init__\n",
      "FINISHED: oasislmf.keys.lookup.__init__ in 0.0s\n",
      "FINISHED: oasislmf.keys.lookup.__init__ in 0.0s\n",
      "STARTED: oasislmf.keys.lookup.__init__\n",
      "STARTED: oasislmf.keys.lookup.__init__\n",
      "FINISHED: oasislmf.keys.lookup.__init__ in 0.0s\n",
      "STARTED: oasislmf.keys.lookup.get_vulnerabilities\n",
      "FINISHED: oasislmf.keys.lookup.get_vulnerabilities in 0.01s\n",
      "FINISHED: oasislmf.keys.lookup.__init__ in 0.01s\n",
      "FINISHED: oasislmf.keys.lookup.__init__ in 0.02s\n",
      "\t{'supplier_id': 'OasisLMF', 'model_id': 'PiWind', 'model_version': '0.0.0.1'}, <oasislmf.keys.lookup.OasisLookup object at 0x7f7c80e59c18>\n",
      "\n",
      "Saving keys records to file\n",
      "STARTED: oasislmf.keys.lookup.bulk_lookup\n",
      "FINISHED: oasislmf.keys.lookup.bulk_lookup in 0.0s\n",
      "\n",
      "9 successful results saved to keys file /home/pinkerton/git/OasisPiWind/keys.csv\n",
      "\n",
      "1 unsuccessful results saved to keys errors file /home/pinkerton/git/OasisPiWind/keys_error.csv\n"
     ]
    }
   ],
   "source": [
    "! oasislmf model generate-keys \\\n",
    "    -k \"keys.csv\" \\\n",
    "    -e \"keys_error.csv\" \\\n",
    "    -d \"keys_data/PiWind\" \\\n",
    "    -v \"keys_data/PiWind/ModelVersion.csv\" \\\n",
    "    -l \"src/keys_server\" \\\n",
    "    -x \"keys_data/PiWind/oasislmf_piwind_model_loc_test.csv\""
   ]
  },
  {
   "cell_type": "code",
   "execution_count": 7,
   "metadata": {},
   "outputs": [
    {
     "name": "stdout",
     "output_type": "stream",
     "text": [
      "usage: oasislmf model generate-oasis-files [-h] [-V] [-C CONFIG]\r\n",
      "                                           [-o OASIS_FILES_PATH]\r\n",
      "                                           [-g LOOKUP_CONFIG_FILE_PATH]\r\n",
      "                                           [-k KEYS_DATA_PATH]\r\n",
      "                                           [-v MODEL_VERSION_FILE_PATH]\r\n",
      "                                           [-l LOOKUP_PACKAGE_PATH]\r\n",
      "                                           [-p CANONICAL_EXPOSURES_PROFILE_JSON_PATH]\r\n",
      "                                           [-e SOURCE_EXPOSURES_FILE_PATH]\r\n",
      "                                           [-a SOURCE_EXPOSURES_VALIDATION_FILE_PATH]\r\n",
      "                                           [-b SOURCE_TO_CANONICAL_EXPOSURES_TRANSFORMATION_FILE_PATH]\r\n",
      "                                           [-c CANONICAL_EXPOSURES_VALIDATION_FILE_PATH]\r\n",
      "                                           [-d CANONICAL_TO_MODEL_EXPOSURES_TRANSFORMATION_FILE_PATH]\r\n",
      "\r\n",
      "Generate Oasis files (items, coverages, GUL summary) for a model The command\r\n",
      "line arguments can be supplied in the configuration file (``oasislmf.json`` by\r\n",
      "default or specified with the ``--config`` flag).\r\n",
      "\r\n",
      "optional arguments:\r\n",
      "  -h, --help            show this help message and exit\r\n",
      "  -V, --verbose         Use verbose logging.\r\n",
      "  -C CONFIG, --config CONFIG\r\n",
      "                        The oasislmf config to load\r\n",
      "  -o OASIS_FILES_PATH, --oasis-files-path OASIS_FILES_PATH\r\n",
      "                        Path to Oasis files\r\n",
      "  -g LOOKUP_CONFIG_FILE_PATH, --lookup-config-file-path LOOKUP_CONFIG_FILE_PATH\r\n",
      "                        Lookup config JSON file path\r\n",
      "  -k KEYS_DATA_PATH, --keys-data-path KEYS_DATA_PATH\r\n",
      "                        Path to Oasis files\r\n",
      "  -v MODEL_VERSION_FILE_PATH, --model-version-file-path MODEL_VERSION_FILE_PATH\r\n",
      "                        Model version file path\r\n",
      "  -l LOOKUP_PACKAGE_PATH, --lookup-package-path LOOKUP_PACKAGE_PATH\r\n",
      "                        Keys data directory path\r\n",
      "  -p CANONICAL_EXPOSURES_PROFILE_JSON_PATH, --canonical-exposures-profile-json-path CANONICAL_EXPOSURES_PROFILE_JSON_PATH\r\n",
      "                        Path of the supplier canonical exposures profile JSON\r\n",
      "                        file\r\n",
      "  -e SOURCE_EXPOSURES_FILE_PATH, --source-exposures-file-path SOURCE_EXPOSURES_FILE_PATH\r\n",
      "                        Source exposures file path\r\n",
      "  -a SOURCE_EXPOSURES_VALIDATION_FILE_PATH, --source-exposures-validation-file-path SOURCE_EXPOSURES_VALIDATION_FILE_PATH\r\n",
      "                        Source exposures validation file (XSD) path\r\n",
      "  -b SOURCE_TO_CANONICAL_EXPOSURES_TRANSFORMATION_FILE_PATH, --source-to-canonical-exposures-transformation-file-path SOURCE_TO_CANONICAL_EXPOSURES_TRANSFORMATION_FILE_PATH\r\n",
      "                        Source -> canonical exposures transformation file\r\n",
      "                        (XSLT) path\r\n",
      "  -c CANONICAL_EXPOSURES_VALIDATION_FILE_PATH, --canonical-exposures-validation-file-path CANONICAL_EXPOSURES_VALIDATION_FILE_PATH\r\n",
      "                        Canonical exposures validation file (XSD) path\r\n",
      "  -d CANONICAL_TO_MODEL_EXPOSURES_TRANSFORMATION_FILE_PATH, --canonical-to-model-exposures-transformation-file-path CANONICAL_TO_MODEL_EXPOSURES_TRANSFORMATION_FILE_PATH\r\n",
      "                        Canonical exposures validation file (XSD) path\r\n"
     ]
    }
   ],
   "source": [
    "! oasislmf model generate-oasis-files --help"
   ]
  },
  {
   "cell_type": "code",
   "execution_count": 8,
   "metadata": {},
   "outputs": [
    {
     "name": "stdout",
     "output_type": "stream",
     "text": [
      "\n",
      "Getting model info and lookup\n",
      "STARTED: oasislmf.keys.lookup.__init__\n",
      "STARTED: oasislmf.keys.lookup.__init__\n",
      "FINISHED: oasislmf.keys.lookup.__init__ in 0.0s\n",
      "STARTED: oasislmf.keys.lookup.__init__\n",
      "STARTED: oasislmf.keys.lookup.__init__\n",
      "FINISHED: oasislmf.keys.lookup.__init__ in 0.0s\n",
      "FINISHED: oasislmf.keys.lookup.__init__ in 0.0s\n",
      "STARTED: oasislmf.keys.lookup.__init__\n",
      "STARTED: oasislmf.keys.lookup.__init__\n",
      "FINISHED: oasislmf.keys.lookup.__init__ in 0.0s\n",
      "STARTED: oasislmf.keys.lookup.get_vulnerabilities\n",
      "FINISHED: oasislmf.keys.lookup.get_vulnerabilities in 0.01s\n",
      "FINISHED: oasislmf.keys.lookup.__init__ in 0.01s\n",
      "FINISHED: oasislmf.keys.lookup.__init__ in 0.02s\n",
      "\t{'supplier_id': 'OasisLMF', 'model_id': 'PiWind', 'model_version': '0.0.0.1'}, <oasislmf.keys.lookup.OasisLookup object at 0x7f000e35dd30>\n",
      "\n",
      "Creating Oasis model object\n",
      "\t<class 'oasislmf.models.model.OasisModel'>: {'_supplier_id': 'OasisLMF', '_model_id': 'PiWind', '_model_version_id': '0.0.0.1', '_key': 'OasisLMF/PiWind/0.0.0.1', '_resources': {'lookup': <oasislmf.keys.lookup.OasisLookup object at 0x7f000e35dd30>, 'lookup_config_fp': '/home/pinkerton/git/OasisPiWind/src/keys_server/PiWind/oasislmf-piwind-0.0.0.1-lookup.json', 'oasis_files_path': '/home/pinkerton/git/OasisPiWind/oasis_files', 'source_exposures_file_path': '/home/pinkerton/git/OasisPiWind/tests/data/SourceLocPiWind10K.csv', 'source_exposures_validation_file_path': '/home/pinkerton/git/OasisPiWind/flamingo/PiWind/Files/ValidationFiles/Generic_Windstorm_SourceLoc.xsd', 'source_to_canonical_exposures_transformation_file_path': '/home/pinkerton/git/OasisPiWind/flamingo/PiWind/Files/TransformationFiles/MappingMapToGeneric_Windstorm_CanLoc_A.xslt', 'canonical_exposures_profile_json_path': '/home/pinkerton/git/OasisPiWind/oasislmf-piwind-canonical-loc-profile.json', 'canonical_exposures_validation_file_path': '/home/pinkerton/git/OasisPiWind/flamingo/PiWind/Files/ValidationFiles/Generic_Windstorm_CanLoc_B.xsd', 'canonical_to_model_exposures_transformation_file_path': '/home/pinkerton/git/OasisPiWind/flamingo/PiWind/Files/TransformationFiles/MappingMapTopiwind_modelloc.xslt', 'oasis_files_pipeline': <class 'oasislmf.exposures.pipeline.OasisFilesPipeline'>: {'_model_key': 'OasisLMF/PiWind/0.0.0.1', '_source_exposures_file_path': None, '_canonical_exposures_file_path': None, '_model_exposures_file_path': None, '_keys_file_path': None, '_keys_errors_file_path': None, '_items_file_path': None, '_coverages_file_path': None, '_gulsummaryxref_file_path': None, '_oasis_files': {'items': None, 'coverages': None, 'gulsummaryxref': None}, '_file_paths': ('source_exposures_file_path', 'canonical_exposures_file_path', 'model_exposures_file_path', 'keys_file_path', 'keys_errors_file_path', 'items_file_path', 'coverages_file_path', 'gulsummaryxref_file_path')}, 'canonical_exposures_profile': {'ROW_ID': {'ProfileElementName': 'ROW_ID', 'FieldName': 'LocationID', 'ProfileType': 'Loc'}, 'ACCNTNUM': {'ProfileElementName': 'ACCNTNUM', 'FieldName': 'AccountNumber', 'ProfileType': 'Loc'}, 'LOCNUM': {}, 'POSTALCODE': {}, 'COUNTY': {}, 'COUNTYCODE': {}, 'CRESTA': {}, 'CITY': {}, 'CITYCODE': {}, 'STATE': {}, 'STATECODE': {}, 'ADDRMATCH': {}, 'COUNTRY': {}, 'COUNTRYGEOID': {}, 'CNTRYSCHEME': {}, 'CNTRYCODE': {}, 'LATITUDE': {}, 'LONGITUDE': {}, 'BLDGSCHEME': {}, 'BLDGCLASS': {}, 'OCCSCHEME': {}, 'OCCTYPE': {}, 'YEARBUILT': {}, 'YEARUPGRAD': {}, 'NUMSTORIES': {}, 'NUMBLDGS': {}, 'WSCV1VAL': {'ProfileElementName': 'WSCV1VAL', 'FieldName': 'TIV', 'PerilID': 1, 'CoverageTypeID': 1, 'FMLevelName': 'Coverage', 'FMLevel': 1, 'FMTermType': 'TIV', 'FMTermGroupID': 1, 'ProfileType': 'Loc'}, 'WSCV2VAL': {}, 'WSCV3VAL': {}, 'WSCV4VAL': {'ProfileElementName': 'WSCV4VAL', 'FieldName': 'TIV', 'PerilID': 1, 'CoverageTypeID': 1, 'FMLevelName': 'Coverage', 'FMLevel': 1, 'FMTermType': 'TIV', 'FMTermGroupID': 2, 'ProfileType': 'Loc'}, 'WSCV5VAL': {}, 'WSCV6VAL': {}, 'WSCV7VAL': {}, 'WSCV8VAL': {}, 'WSCV9VAL': {}, 'WSCV10VAL': {}, 'WSCV1LIMIT': {'ProfileElementName': 'WSCV1LIMIT', 'FieldName': 'CoverageLimit', 'PerilID': 1, 'CoverageTypeID': 1, 'FMLevelName': 'Coverage', 'FMLevel': 1, 'FMTermType': 'Limit', 'FMTermGroupID': 1, 'ProfileType': 'Loc'}, 'WSCV2LIMIT': {}, 'WSCV3LIMIT': {}, 'WSCV4LIMIT': {'ProfileElementName': 'WSCV4LIMIT', 'FieldName': 'CoverageLimit', 'PerilID': 1, 'CoverageTypeID': 1, 'FMLevelName': 'Coverage', 'FMLevel': 1, 'FMTermType': 'Limit', 'FMTermGroupID': 2, 'ProfileType': 'Loc'}, 'WSCV5LIMIT': {}, 'WSCV6LIMIT': {}, 'WSCV7LIMIT': {}, 'WSCV8LIMIT': {}, 'WSCV9LIMIT': {}, 'WSCV10LMT': {}, 'WSCV1DED': {'ProfileElementName': 'WSCV1DED', 'FieldName': 'CoverageDeductible', 'DeductibleType': 'B', 'PerilID': 1, 'CoverageTypeID': 1, 'FMLevelName': 'Coverage', 'FMLevel': 1, 'FMTermType': 'Deductible', 'FMTermGroupID': 1, 'ProfileType': 'Loc'}, 'WSCV2DED': {}, 'WSCV3DED': {}, 'WSCV4DED': {'ProfileElementName': 'WSCV4DED', 'FieldName': 'CoverageDeductible', 'DeductibleType': 'B', 'PerilID': 1, 'CoverageTypeID': 1, 'FMLevelName': 'Coverage', 'FMLevel': 1, 'FMTermType': 'Deductible', 'FMTermGroupID': 2, 'ProfileType': 'Loc'}, 'WSCV5DED': {}, 'WSCV6DED': {}, 'WSCV7DED': {}, 'WSCV8DED': {}, 'WSCV9DED': {}, 'WSCV10DED': {}, 'WSSITELIM': {'ProfileElementName': 'WSSITELIM', 'FieldName': 'SiteLimit', 'FMLevelName': 'Site', 'FMLevel': 3, 'FMTermType': 'Limit', 'FMTermGroupID': 1, 'ProfileType': 'Loc'}, 'WSSITEDED': {'ProfileElementName': 'WSSITEDED', 'FieldName': 'SiteDeductible', 'DeductibleType': 'B', 'FMLevelName': 'Site', 'FMLevel': 3, 'FMTermType': 'Deductible', 'FMTermGroupID': 1, 'ProfileType': 'Loc'}, 'WSCOMBINEDLIM': {'ProfileElementName': 'WSCOMBINEDLIM', 'FieldName': 'CombinedLimit', 'FMLevelName': 'Combined', 'FMLevel': 2, 'FMTermType': 'Limit', 'FMTermGroupID': 1, 'ProfileType': 'Loc'}, 'WSCOMBINEDDED': {'ProfileElementName': 'WSCOMBINEDDED', 'FieldName': 'CombinedDeductible', 'DeductibleType': 'B', 'FMLevelName': 'Combined', 'FMLevel': 2, 'FMTermType': 'Deductible', 'FMTermGroupID': 1, 'ProfileType': 'Loc'}, 'COND1TYPE': {}, 'COND1NAME': {'ProfileElementName': 'COND1NAME', 'FieldName': 'SubLimitReference'}, 'COND1DEDUCTIBLE': {'ProfileElementName': 'COND1DEDUCTIBLE', 'FieldName': 'SubLimitDeductible', 'DeductibleType': 'B', 'FMLevelName': 'Sublimit', 'FMLevel': 4, 'FMTermType': 'Deductible', 'FMTermGroupID': 1, 'ProfileType': 'Loc'}, 'COND1LIMIT': {'ProfileElementName': 'COND1LIMIT', 'FieldName': 'SubLimitLimit', 'FMLevelName': 'Sublimit', 'FMLevel': 4, 'FMTermType': 'Limit', 'FMTermGroupID': 1, 'ProfileType': 'Loc'}, 'ROOFGEOM': {}}, 'lookup_config': {'model': {'supplier_id': 'OasisLMF', 'model_id': 'PiWind', 'model_version': '0.0.0.1'}, 'keys_data_path': '/home/pinkerton/git/OasisPiWind/keys_data/PiWind', 'peril': {'peril': 'wind', 'peril_id': 1, 'file_path': '/home/pinkerton/git/OasisPiWind/keys_data/PiWind/area_peril_dict.csv', 'file_type': 'csv', 'float_precision_high': True, 'num_areas': 100, 'cols': ('AREA_PERIL_ID', 'LON1', 'LAT1', 'LON2', 'LAT2', 'LON3', 'LAT3', 'LON4', 'LAT4'), 'non_na_cols': ('AREA_PERIL_ID', 'LON1', 'LAT1', 'LON2', 'LAT2', 'LON3', 'LAT3', 'LON4', 'LAT4'), 'col_dtypes': {'AREA_PERIL_ID': 'int', 'LON1': 'float', 'LAT1': 'float', 'LON2': 'float', 'LAT2': 'float', 'LON3': 'float', 'LAT3': 'float', 'LON4': 'float', 'LAT5': 'float'}, 'sort_col': 'AREA_PERIL_ID', 'sort_ascending': True, 'peril_area_id_col': 'AREA_PERIL_ID', 'area_poly_coords_cols': {'x1': 'LON1', 'y1': 'LAT1', 'x2': 'LON2', 'y2': 'LAT2', 'x3': 'LON3', 'y3': 'LAT3', 'x4': 'LON4', 'y4': 'LAT4'}, 'area_poly_coords_seq_start_idx': 1, 'area_reg_poly_radius': 0.00166, 'loc_to_global_areas_boundary_min_distance': 0, 'rtree_index': {'buffering_capacity': 10, 'custom_storage_callbacks': None, 'custom_storage_callbacks_size': 0, 'dat_extension': 'dat', 'dimension': 2, 'filename': '/home/pinkerton/git/OasisPiWind/keys_data/PiWind/oasislmf-piwind-0.0.0.1-areas-rtree-index', 'fill_factor': 0.7, 'idx_extension': 'idx', 'index_capacity': 100, 'index_id': None, 'leaf_capacity': 100, 'near_minimum_overlap_factor': 32, 'overwrite': True, 'pagesize': 4096, 'point_pool_capacity': 500, 'region_pool_capacity': 1000, 'reinsert_factor': 0.3, 'split_distribution_factor': 0.4, 'storage': 0, 'tight_mbr': True, 'tpr_horizon': 20.0, 'type': 0, 'variant': 2, 'writethrough': False}}, 'vulnerability': {'file_path': '/home/pinkerton/git/OasisPiWind/keys_data/PiWind/vulnerability_dict.csv', 'file_type': 'csv', 'float_precision_high': True, 'num_vulnerabilities': 3, 'cols': ('COVERAGE', 'CLASS_1', 'VULNERABILITY_ID'), 'non_na_cols': ('COVERAGE', 'CLASS_1', 'VULNERABILITY_ID'), 'key_cols': ('COVERAGE', 'CLASS_1'), 'col_dtypes': {'COVERAGE': 'int', 'CLASS_1': 'str', 'VULNERABILITY_ID': 'int'}, 'sort_col': 'VULNERABILITY_ID', 'sort_ascending': True, 'vulnerability_id_col': 'VULNERABILITY_ID'}, 'locations': {'id_col': 'id', 'coords_type': 'lonlat', 'coords_x_col': 'lon', 'coords_y_col': 'lat', 'coords_x_bounds': (-180, 180), 'coords_y_bounds': (-90, 90), 'non_na_cols': ('id', 'lon', 'lat'), 'col_dtypes': {'id': 'int', 'lon': 'float', 'lat': 'float'}, 'sort_col': 'id', 'sort_ascending': True}}}}: OasisLMF/PiWind/0.0.0.1\n",
      "\n",
      "Setting up Oasis files directory for model OasisLMF/PiWind/0.0.0.1\n",
      "\n",
      "Generating Oasis files for model\n",
      "Checking output files directory exists for model\n",
      "Checking for source exposures file\n",
      "Generating canonical exposures file /home/pinkerton/git/OasisPiWind/oasis_files/canexp-20180625134328.csv\n"
     ]
    },
    {
     "name": "stdout",
     "output_type": "stream",
     "text": [
      "Generating model exposures file /home/pinkerton/git/OasisPiWind/oasis_files/modexp-20180625134328.csv\n",
      "Generating keys file /home/pinkerton/git/OasisPiWind/oasis_files/oasiskeys-20180625134328.csv and keys error file /home/pinkerton/git/OasisPiWind/oasis_files/oasiskeys-errors-20180625134328.csv\n",
      "STARTED: oasislmf.keys.lookup.bulk_lookup\n",
      "FINISHED: oasislmf.keys.lookup.bulk_lookup in 0.0s\n",
      "Generating Oasis files for model\n",
      "\n",
      "Generated Oasis files for model: {'items_file_path': '/home/pinkerton/git/OasisPiWind/oasis_files/items.csv', 'coverages_file_path': '/home/pinkerton/git/OasisPiWind/oasis_files/coverages.csv', 'gulsummaryxref_file_path': '/home/pinkerton/git/OasisPiWind/oasis_files/gulsummaryxref.csv'}\n"
     ]
    }
   ],
   "source": [
    "! oasislmf model generate-oasis-files \\\n",
    "    -o \"oasis_files\" \\\n",
    "    -k \"keys_data/PiWind\" \\\n",
    "    -v \"keys_data/PiWind/ModelVersion.csv\" \\\n",
    "    -l \"src/keys_server\" \\\n",
    "    -p \"oasislmf-piwind-canonical-loc-profile.json\" \\\n",
    "    -e \"tests/data/SourceLocPiWind10K.csv\" \\\n",
    "    -a \"flamingo/PiWind/Files/ValidationFiles/Generic_Windstorm_SourceLoc.xsd\" \\\n",
    "    -b \"flamingo/PiWind/Files/TransformationFiles/MappingMapToGeneric_Windstorm_CanLoc_A.xslt\" \\\n",
    "    -c  \"flamingo/PiWind/Files/ValidationFiles/Generic_Windstorm_CanLoc_B.xsd\" \\\n",
    "    -d \"flamingo/PiWind/Files/TransformationFiles/MappingMapTopiwind_modelloc.xslt\"\n"
   ]
  },
  {
   "cell_type": "code",
   "execution_count": 14,
   "metadata": {},
   "outputs": [
    {
     "name": "stdout",
     "output_type": "stream",
     "text": [
      "usage: oasislmf model generate-losses [-h] [-V] [-C CONFIG]\r\n",
      "                                      [-o OASIS_FILES_PATH]\r\n",
      "                                      [-j ANALYSIS_SETTINGS_JSON_FILE_PATH]\r\n",
      "                                      [-m MODEL_DATA_PATH]\r\n",
      "                                      [-r MODEL_RUN_DIR_PATH]\r\n",
      "                                      [-s KTOOLS_SCRIPT_NAME]\r\n",
      "                                      [-n KTOOLS_NUM_PROCESSES] [-x]\r\n",
      "\r\n",
      "Generate losses using the installed ktools framework.\r\n",
      "\r\n",
      "    Given Oasis files, model analysis settings JSON file, model data, and\r\n",
      "    some other parameters. can generate losses using the installed ktools framework.\r\n",
      "\r\n",
      "    The command line arguments can be supplied in the configuration file\r\n",
      "    (``oasislmf.json`` by default or specified with the ``--config`` flag).\r\n",
      "    Run ``oasislmf config --help`` for more information.\r\n",
      "\r\n",
      "    The script creates a time-stamped folder in the model run directory and\r\n",
      "    sets that as the new model run directory, copies the analysis settings\r\n",
      "    JSON file into the run directory and creates the following folder\r\n",
      "    structure\r\n",
      "    ::\r\n",
      "\r\n",
      "        ├── analysis_settings.json\r\n",
      "        ├── fifo/\r\n",
      "        ├── input/\r\n",
      "        ├── output/\r\n",
      "        ├── static/\r\n",
      "        └── work/\r\n",
      "\r\n",
      "    Depending on the OS type the model data is symlinked (Linux, Darwin) or\r\n",
      "    copied (Cygwin, Windows) into the ``static`` subfolder. The input files\r\n",
      "    are kept in the ``input`` subfolder and the losses are generated as CSV\r\n",
      "    files in the ``output`` subfolder.\r\n",
      "\r\n",
      "    By default executing the generated ktools losses script will automatically\r\n",
      "    execute, this can be overridden by providing the ``--no-execute`` flag.\r\n",
      "\r\n",
      "optional arguments:\r\n",
      "  -h, --help            show this help message and exit\r\n",
      "  -V, --verbose         Use verbose logging.\r\n",
      "  -C CONFIG, --config CONFIG\r\n",
      "                        The oasislmf config to load\r\n",
      "  -o OASIS_FILES_PATH, --oasis-files-path OASIS_FILES_PATH\r\n",
      "                        Path to Oasis files\r\n",
      "  -j ANALYSIS_SETTINGS_JSON_FILE_PATH, --analysis-settings-json-file-path ANALYSIS_SETTINGS_JSON_FILE_PATH\r\n",
      "                        Relative or absolute path of the model analysis\r\n",
      "                        settings JSON file\r\n",
      "  -m MODEL_DATA_PATH, --model-data-path MODEL_DATA_PATH\r\n",
      "                        Model data source path\r\n",
      "  -r MODEL_RUN_DIR_PATH, --model-run-dir-path MODEL_RUN_DIR_PATH\r\n",
      "                        Model run directory path\r\n",
      "  -s KTOOLS_SCRIPT_NAME, --ktools-script-name KTOOLS_SCRIPT_NAME\r\n",
      "                        Relative or absolute path of the output file\r\n",
      "  -n KTOOLS_NUM_PROCESSES, --ktools-num-processes KTOOLS_NUM_PROCESSES\r\n",
      "                        Number of ktools calculation processes to use\r\n",
      "  -x, --no-execute      Whether to execute generated ktools script\r\n"
     ]
    }
   ],
   "source": [
    "! oasislmf model generate-losses --help"
   ]
  },
  {
   "cell_type": "code",
   "execution_count": 15,
   "metadata": {},
   "outputs": [
    {
     "name": "stdout",
     "output_type": "stream",
     "text": [
      "\n",
      "Preparing model run directory /tmp/run - copying Oasis files, analysis settings JSON file and linking model data\n",
      "\n",
      "Converting Oasis files to ktools binary files\n",
      "\n",
      "Reading analysis settings JSON file\n",
      "\n",
      "Loaded analysis settings JSON: {'analysis_tag': 13, 'exposure_location': 'L:', 'gul_output': True, 'gul_summaries': [{'aalcalc': True, 'eltcalc': True, 'id': 1, 'lec_output': True, 'leccalc': {'outputs': {'full_uncertainty_aep': True, 'full_uncertainty_oep': True}, 'return_period_file': True}}], 'gul_threshold': 0, 'il_summaries': [], 'model_settings': {'event_set': 'P', 'peril_wind': True}, 'model_version_id': 'PiWind', 'module_supplier_id': 'OasisLMF', 'number_of_samples': 10, 'prog_id': 12, 'source_tag': 'piwind'}\n",
      "\n",
      "Preparing model run inputs\n",
      "STARTED: oasislmf.cmd.model.run\n",
      "FINISHED: oasislmf.cmd.model.run in 5.18s\n",
      "\n",
      "Loss outputs generated in /tmp/run/output\n"
     ]
    }
   ],
   "source": [
    "! rm -rf /tmp/run\n",
    "! oasislmf model generate-losses \\\n",
    "    -o \"oasis_files\" \\\n",
    "    -j \"analysis_settings.json\" \\\n",
    "    -m \"model_data/PiWind\" \\\n",
    "    -r \"/tmp/run\""
   ]
  },
  {
   "cell_type": "code",
   "execution_count": 16,
   "metadata": {},
   "outputs": [
    {
     "name": "stdout",
     "output_type": "stream",
     "text": [
      "usage: oasislmf model run [-h] [-V] [-C CONFIG] [-k KEYS_DATA_PATH]\r\n",
      "                          [-v MODEL_VERSION_FILE_PATH]\r\n",
      "                          [-l LOOKUP_PACKAGE_FILE_PATH]\r\n",
      "                          [-g LOOKUP_CONFIG_FILE_PATH]\r\n",
      "                          [-p CANONICAL_EXPOSURES_PROFILE_JSON_PATH]\r\n",
      "                          [-e SOURCE_EXPOSURES_FILE_PATH]\r\n",
      "                          [-a SOURCE_EXPOSURES_VALIDATION_FILE_PATH]\r\n",
      "                          [-b SOURCE_TO_CANONICAL_EXPOSURES_TRANSFORMATION_FILE_PATH]\r\n",
      "                          [-c CANONICAL_EXPOSURES_VALIDATION_FILE_PATH]\r\n",
      "                          [-d CANONICAL_TO_MODEL_EXPOSURES_TRANSFORMATION_FILE_PATH]\r\n",
      "                          [-j ANALYSIS_SETTINGS_JSON_FILE_PATH]\r\n",
      "                          [-m MODEL_DATA_PATH] [-r MODEL_RUN_DIR_PATH]\r\n",
      "                          [-s KTOOLS_SCRIPT_NAME] [-n KTOOLS_NUM_PROCESSES]\r\n",
      "\r\n",
      "Run models end to end. The command line arguments can be supplied in the\r\n",
      "configuration file (``oasislmf.json`` by default or specified with the\r\n",
      "``--config`` flag).\r\n",
      "\r\n",
      "optional arguments:\r\n",
      "  -h, --help            show this help message and exit\r\n",
      "  -V, --verbose         Use verbose logging.\r\n",
      "  -C CONFIG, --config CONFIG\r\n",
      "                        The oasislmf config to load\r\n",
      "  -k KEYS_DATA_PATH, --keys-data-path KEYS_DATA_PATH\r\n",
      "                        Path to Oasis files\r\n",
      "  -v MODEL_VERSION_FILE_PATH, --model-version-file-path MODEL_VERSION_FILE_PATH\r\n",
      "                        Model version file path\r\n",
      "  -l LOOKUP_PACKAGE_FILE_PATH, --lookup-package-file-path LOOKUP_PACKAGE_FILE_PATH\r\n",
      "                        Keys data directory path\r\n",
      "  -g LOOKUP_CONFIG_FILE_PATH, --lookup-config-file-path LOOKUP_CONFIG_FILE_PATH\r\n",
      "                        Lookup config JSON file path\r\n",
      "  -p CANONICAL_EXPOSURES_PROFILE_JSON_PATH, --canonical-exposures-profile-json-path CANONICAL_EXPOSURES_PROFILE_JSON_PATH\r\n",
      "                        Path of the supplier canonical exposures profile JSON\r\n",
      "                        file\r\n",
      "  -e SOURCE_EXPOSURES_FILE_PATH, --source-exposures-file-path SOURCE_EXPOSURES_FILE_PATH\r\n",
      "                        Source exposures file path\r\n",
      "  -a SOURCE_EXPOSURES_VALIDATION_FILE_PATH, --source-exposures-validation-file-path SOURCE_EXPOSURES_VALIDATION_FILE_PATH\r\n",
      "                        Source exposures validation file (XSD) path\r\n",
      "  -b SOURCE_TO_CANONICAL_EXPOSURES_TRANSFORMATION_FILE_PATH, --source-to-canonical-exposures-transformation-file-path SOURCE_TO_CANONICAL_EXPOSURES_TRANSFORMATION_FILE_PATH\r\n",
      "                        Source -> canonical exposures transformation file\r\n",
      "                        (XSLT) path\r\n",
      "  -c CANONICAL_EXPOSURES_VALIDATION_FILE_PATH, --canonical-exposures-validation-file-path CANONICAL_EXPOSURES_VALIDATION_FILE_PATH\r\n",
      "                        Canonical exposures validation file (XSD) path\r\n",
      "  -d CANONICAL_TO_MODEL_EXPOSURES_TRANSFORMATION_FILE_PATH, --canonical-to-model-exposures-transformation-file-path CANONICAL_TO_MODEL_EXPOSURES_TRANSFORMATION_FILE_PATH\r\n",
      "                        Canonical exposures validation file (XSD) path\r\n",
      "  -j ANALYSIS_SETTINGS_JSON_FILE_PATH, --analysis-settings-json-file-path ANALYSIS_SETTINGS_JSON_FILE_PATH\r\n",
      "                        Model analysis settings JSON file path\r\n",
      "  -m MODEL_DATA_PATH, --model-data-path MODEL_DATA_PATH\r\n",
      "                        Model data source path\r\n",
      "  -r MODEL_RUN_DIR_PATH, --model-run-dir-path MODEL_RUN_DIR_PATH\r\n",
      "                        Model run directory path\r\n",
      "  -s KTOOLS_SCRIPT_NAME, --ktools-script-name KTOOLS_SCRIPT_NAME\r\n",
      "                        Name of the ktools output script (should not contain\r\n",
      "                        any filetype extension)\r\n",
      "  -n KTOOLS_NUM_PROCESSES, --ktools-num-processes KTOOLS_NUM_PROCESSES\r\n",
      "                        Number of ktools calculation processes to use\r\n"
     ]
    }
   ],
   "source": [
    "! oasislmf model run --help"
   ]
  },
  {
   "cell_type": "code",
   "execution_count": 17,
   "metadata": {},
   "outputs": [
    {
     "name": "stdout",
     "output_type": "stream",
     "text": [
      "\n",
      "Creating temporary folder /tmp/run/tmp for Oasis files\n",
      "\n",
      "Getting model info and lookup\n",
      "STARTED: oasislmf.keys.lookup.__init__\n",
      "STARTED: oasislmf.keys.lookup.__init__\n",
      "FINISHED: oasislmf.keys.lookup.__init__ in 0.0s\n",
      "STARTED: oasislmf.keys.lookup.__init__\n",
      "STARTED: oasislmf.keys.lookup.__init__\n",
      "FINISHED: oasislmf.keys.lookup.__init__ in 0.0s\n",
      "FINISHED: oasislmf.keys.lookup.__init__ in 0.0s\n",
      "STARTED: oasislmf.keys.lookup.__init__\n",
      "STARTED: oasislmf.keys.lookup.__init__\n",
      "FINISHED: oasislmf.keys.lookup.__init__ in 0.0s\n",
      "STARTED: oasislmf.keys.lookup.get_vulnerabilities\n",
      "FINISHED: oasislmf.keys.lookup.get_vulnerabilities in 0.01s\n",
      "FINISHED: oasislmf.keys.lookup.__init__ in 0.01s\n",
      "FINISHED: oasislmf.keys.lookup.__init__ in 0.02s\n",
      "\t{'supplier_id': 'OasisLMF', 'model_id': 'PiWind', 'model_version': '0.0.0.1'}, <oasislmf.keys.lookup.OasisLookup object at 0x7f5eaa88cdd8>\n",
      "\n",
      "Creating Oasis model object\n",
      "\t<class 'oasislmf.models.model.OasisModel'>: {'_supplier_id': 'OasisLMF', '_model_id': 'PiWind', '_model_version_id': '0.0.0.1', '_key': 'OasisLMF/PiWind/0.0.0.1', '_resources': {'lookup': <oasislmf.keys.lookup.OasisLookup object at 0x7f5eaa88cdd8>, 'lookup_config_fp': '/home/pinkerton/git/OasisPiWind/src/keys_server/PiWind/oasislmf-piwind-0.0.0.1-lookup.json', 'oasis_files_path': '/tmp/run/tmp', 'source_exposures_file_path': '/home/pinkerton/git/OasisPiWind/tests/data/SourceLocPiWind10K.csv', 'source_exposures_validation_file_path': '/home/pinkerton/git/OasisPiWind/flamingo/PiWind/Files/ValidationFiles/Generic_Windstorm_SourceLoc.xsd', 'source_to_canonical_exposures_transformation_file_path': '/home/pinkerton/git/OasisPiWind/flamingo/PiWind/Files/TransformationFiles/MappingMapToGeneric_Windstorm_CanLoc_A.xslt', 'canonical_exposures_profile_json_path': '/home/pinkerton/git/OasisPiWind/oasislmf-piwind-canonical-loc-profile.json', 'canonical_exposures_validation_file_path': '/home/pinkerton/git/OasisPiWind/flamingo/PiWind/Files/ValidationFiles/Generic_Windstorm_CanLoc_B.xsd', 'canonical_to_model_exposures_transformation_file_path': '/home/pinkerton/git/OasisPiWind/flamingo/PiWind/Files/TransformationFiles/MappingMapTopiwind_modelloc.xslt', 'oasis_files_pipeline': <class 'oasislmf.exposures.pipeline.OasisFilesPipeline'>: {'_model_key': 'OasisLMF/PiWind/0.0.0.1', '_source_exposures_file_path': None, '_canonical_exposures_file_path': None, '_model_exposures_file_path': None, '_keys_file_path': None, '_keys_errors_file_path': None, '_items_file_path': None, '_coverages_file_path': None, '_gulsummaryxref_file_path': None, '_oasis_files': {'items': None, 'coverages': None, 'gulsummaryxref': None}, '_file_paths': ('source_exposures_file_path', 'canonical_exposures_file_path', 'model_exposures_file_path', 'keys_file_path', 'keys_errors_file_path', 'items_file_path', 'coverages_file_path', 'gulsummaryxref_file_path')}, 'canonical_exposures_profile': {'ROW_ID': {'ProfileElementName': 'ROW_ID', 'FieldName': 'LocationID', 'ProfileType': 'Loc'}, 'ACCNTNUM': {'ProfileElementName': 'ACCNTNUM', 'FieldName': 'AccountNumber', 'ProfileType': 'Loc'}, 'LOCNUM': {}, 'POSTALCODE': {}, 'COUNTY': {}, 'COUNTYCODE': {}, 'CRESTA': {}, 'CITY': {}, 'CITYCODE': {}, 'STATE': {}, 'STATECODE': {}, 'ADDRMATCH': {}, 'COUNTRY': {}, 'COUNTRYGEOID': {}, 'CNTRYSCHEME': {}, 'CNTRYCODE': {}, 'LATITUDE': {}, 'LONGITUDE': {}, 'BLDGSCHEME': {}, 'BLDGCLASS': {}, 'OCCSCHEME': {}, 'OCCTYPE': {}, 'YEARBUILT': {}, 'YEARUPGRAD': {}, 'NUMSTORIES': {}, 'NUMBLDGS': {}, 'WSCV1VAL': {'ProfileElementName': 'WSCV1VAL', 'FieldName': 'TIV', 'PerilID': 1, 'CoverageTypeID': 1, 'FMLevelName': 'Coverage', 'FMLevel': 1, 'FMTermType': 'TIV', 'FMTermGroupID': 1, 'ProfileType': 'Loc'}, 'WSCV2VAL': {}, 'WSCV3VAL': {}, 'WSCV4VAL': {'ProfileElementName': 'WSCV4VAL', 'FieldName': 'TIV', 'PerilID': 1, 'CoverageTypeID': 1, 'FMLevelName': 'Coverage', 'FMLevel': 1, 'FMTermType': 'TIV', 'FMTermGroupID': 2, 'ProfileType': 'Loc'}, 'WSCV5VAL': {}, 'WSCV6VAL': {}, 'WSCV7VAL': {}, 'WSCV8VAL': {}, 'WSCV9VAL': {}, 'WSCV10VAL': {}, 'WSCV1LIMIT': {'ProfileElementName': 'WSCV1LIMIT', 'FieldName': 'CoverageLimit', 'PerilID': 1, 'CoverageTypeID': 1, 'FMLevelName': 'Coverage', 'FMLevel': 1, 'FMTermType': 'Limit', 'FMTermGroupID': 1, 'ProfileType': 'Loc'}, 'WSCV2LIMIT': {}, 'WSCV3LIMIT': {}, 'WSCV4LIMIT': {'ProfileElementName': 'WSCV4LIMIT', 'FieldName': 'CoverageLimit', 'PerilID': 1, 'CoverageTypeID': 1, 'FMLevelName': 'Coverage', 'FMLevel': 1, 'FMTermType': 'Limit', 'FMTermGroupID': 2, 'ProfileType': 'Loc'}, 'WSCV5LIMIT': {}, 'WSCV6LIMIT': {}, 'WSCV7LIMIT': {}, 'WSCV8LIMIT': {}, 'WSCV9LIMIT': {}, 'WSCV10LMT': {}, 'WSCV1DED': {'ProfileElementName': 'WSCV1DED', 'FieldName': 'CoverageDeductible', 'DeductibleType': 'B', 'PerilID': 1, 'CoverageTypeID': 1, 'FMLevelName': 'Coverage', 'FMLevel': 1, 'FMTermType': 'Deductible', 'FMTermGroupID': 1, 'ProfileType': 'Loc'}, 'WSCV2DED': {}, 'WSCV3DED': {}, 'WSCV4DED': {'ProfileElementName': 'WSCV4DED', 'FieldName': 'CoverageDeductible', 'DeductibleType': 'B', 'PerilID': 1, 'CoverageTypeID': 1, 'FMLevelName': 'Coverage', 'FMLevel': 1, 'FMTermType': 'Deductible', 'FMTermGroupID': 2, 'ProfileType': 'Loc'}, 'WSCV5DED': {}, 'WSCV6DED': {}, 'WSCV7DED': {}, 'WSCV8DED': {}, 'WSCV9DED': {}, 'WSCV10DED': {}, 'WSSITELIM': {'ProfileElementName': 'WSSITELIM', 'FieldName': 'SiteLimit', 'FMLevelName': 'Site', 'FMLevel': 3, 'FMTermType': 'Limit', 'FMTermGroupID': 1, 'ProfileType': 'Loc'}, 'WSSITEDED': {'ProfileElementName': 'WSSITEDED', 'FieldName': 'SiteDeductible', 'DeductibleType': 'B', 'FMLevelName': 'Site', 'FMLevel': 3, 'FMTermType': 'Deductible', 'FMTermGroupID': 1, 'ProfileType': 'Loc'}, 'WSCOMBINEDLIM': {'ProfileElementName': 'WSCOMBINEDLIM', 'FieldName': 'CombinedLimit', 'FMLevelName': 'Combined', 'FMLevel': 2, 'FMTermType': 'Limit', 'FMTermGroupID': 1, 'ProfileType': 'Loc'}, 'WSCOMBINEDDED': {'ProfileElementName': 'WSCOMBINEDDED', 'FieldName': 'CombinedDeductible', 'DeductibleType': 'B', 'FMLevelName': 'Combined', 'FMLevel': 2, 'FMTermType': 'Deductible', 'FMTermGroupID': 1, 'ProfileType': 'Loc'}, 'COND1TYPE': {}, 'COND1NAME': {'ProfileElementName': 'COND1NAME', 'FieldName': 'SubLimitReference'}, 'COND1DEDUCTIBLE': {'ProfileElementName': 'COND1DEDUCTIBLE', 'FieldName': 'SubLimitDeductible', 'DeductibleType': 'B', 'FMLevelName': 'Sublimit', 'FMLevel': 4, 'FMTermType': 'Deductible', 'FMTermGroupID': 1, 'ProfileType': 'Loc'}, 'COND1LIMIT': {'ProfileElementName': 'COND1LIMIT', 'FieldName': 'SubLimitLimit', 'FMLevelName': 'Sublimit', 'FMLevel': 4, 'FMTermType': 'Limit', 'FMTermGroupID': 1, 'ProfileType': 'Loc'}, 'ROOFGEOM': {}}, 'lookup_config': {'model': {'supplier_id': 'OasisLMF', 'model_id': 'PiWind', 'model_version': '0.0.0.1'}, 'keys_data_path': '/home/pinkerton/git/OasisPiWind/keys_data/PiWind', 'peril': {'peril': 'wind', 'peril_id': 1, 'file_path': '/home/pinkerton/git/OasisPiWind/keys_data/PiWind/area_peril_dict.csv', 'file_type': 'csv', 'float_precision_high': True, 'num_areas': 100, 'cols': ('AREA_PERIL_ID', 'LON1', 'LAT1', 'LON2', 'LAT2', 'LON3', 'LAT3', 'LON4', 'LAT4'), 'non_na_cols': ('AREA_PERIL_ID', 'LON1', 'LAT1', 'LON2', 'LAT2', 'LON3', 'LAT3', 'LON4', 'LAT4'), 'col_dtypes': {'AREA_PERIL_ID': 'int', 'LON1': 'float', 'LAT1': 'float', 'LON2': 'float', 'LAT2': 'float', 'LON3': 'float', 'LAT3': 'float', 'LON4': 'float', 'LAT5': 'float'}, 'sort_col': 'AREA_PERIL_ID', 'sort_ascending': True, 'peril_area_id_col': 'AREA_PERIL_ID', 'area_poly_coords_cols': {'x1': 'LON1', 'y1': 'LAT1', 'x2': 'LON2', 'y2': 'LAT2', 'x3': 'LON3', 'y3': 'LAT3', 'x4': 'LON4', 'y4': 'LAT4'}, 'area_poly_coords_seq_start_idx': 1, 'area_reg_poly_radius': 0.00166, 'loc_to_global_areas_boundary_min_distance': 0, 'rtree_index': {'buffering_capacity': 10, 'custom_storage_callbacks': None, 'custom_storage_callbacks_size': 0, 'dat_extension': 'dat', 'dimension': 2, 'filename': '/home/pinkerton/git/OasisPiWind/keys_data/PiWind/oasislmf-piwind-0.0.0.1-areas-rtree-index', 'fill_factor': 0.7, 'idx_extension': 'idx', 'index_capacity': 100, 'index_id': None, 'leaf_capacity': 100, 'near_minimum_overlap_factor': 32, 'overwrite': True, 'pagesize': 4096, 'point_pool_capacity': 500, 'region_pool_capacity': 1000, 'reinsert_factor': 0.3, 'split_distribution_factor': 0.4, 'storage': 0, 'tight_mbr': True, 'tpr_horizon': 20.0, 'type': 0, 'variant': 2, 'writethrough': False}}, 'vulnerability': {'file_path': '/home/pinkerton/git/OasisPiWind/keys_data/PiWind/vulnerability_dict.csv', 'file_type': 'csv', 'float_precision_high': True, 'num_vulnerabilities': 3, 'cols': ('COVERAGE', 'CLASS_1', 'VULNERABILITY_ID'), 'non_na_cols': ('COVERAGE', 'CLASS_1', 'VULNERABILITY_ID'), 'key_cols': ('COVERAGE', 'CLASS_1'), 'col_dtypes': {'COVERAGE': 'int', 'CLASS_1': 'str', 'VULNERABILITY_ID': 'int'}, 'sort_col': 'VULNERABILITY_ID', 'sort_ascending': True, 'vulnerability_id_col': 'VULNERABILITY_ID'}, 'locations': {'id_col': 'id', 'coords_type': 'lonlat', 'coords_x_col': 'lon', 'coords_y_col': 'lat', 'coords_x_bounds': (-180, 180), 'coords_y_bounds': (-90, 90), 'non_na_cols': ('id', 'lon', 'lat'), 'col_dtypes': {'id': 'int', 'lon': 'float', 'lat': 'float'}, 'sort_col': 'id', 'sort_ascending': True}}}}: OasisLMF/PiWind/0.0.0.1\n",
      "\n",
      "Setting up Oasis files directory for model OasisLMF/PiWind/0.0.0.1\n",
      "\n",
      "Generating Oasis files for model\n",
      "Checking output files directory exists for model\n",
      "Checking for source exposures file\n",
      "Copying source exposures file to input files directory\n",
      "Generating canonical exposures file /tmp/run/tmp/canexp-20180625134831.csv\n"
     ]
    },
    {
     "name": "stdout",
     "output_type": "stream",
     "text": [
      "Generating model exposures file /tmp/run/tmp/modexp-20180625134831.csv\n",
      "Generating keys file /tmp/run/tmp/oasiskeys-20180625134831.csv and keys error file /tmp/run/tmp/oasiskeys-errors-20180625134831.csv\n",
      "STARTED: oasislmf.keys.lookup.bulk_lookup\n",
      "FINISHED: oasislmf.keys.lookup.bulk_lookup in 0.0s\n",
      "Generating Oasis files for model\n",
      "\n",
      "Generated Oasis files for model: {'items_file_path': '/tmp/run/tmp/items.csv', 'coverages_file_path': '/tmp/run/tmp/coverages.csv', 'gulsummaryxref_file_path': '/tmp/run/tmp/gulsummaryxref.csv'}\n",
      "\n",
      "Preparing model run directory /tmp/run - copying Oasis files, analysis settings JSON file and linking model data\n",
      "\n",
      "Converting Oasis files to ktools binary files\n",
      "\n",
      "Reading analysis settings JSON file\n",
      "\n",
      "Loaded analysis settings JSON: {'analysis_tag': 13, 'exposure_location': 'L:', 'gul_output': True, 'gul_summaries': [{'aalcalc': True, 'eltcalc': True, 'id': 1, 'lec_output': True, 'leccalc': {'outputs': {'full_uncertainty_aep': True, 'full_uncertainty_oep': True}, 'return_period_file': True}}], 'gul_threshold': 0, 'il_summaries': [], 'model_settings': {'event_set': 'P', 'peril_wind': True}, 'model_version_id': 'PiWind', 'module_supplier_id': 'OasisLMF', 'number_of_samples': 10, 'prog_id': 12, 'source_tag': 'piwind'}\n",
      "\n",
      "Preparing model run inputs\n",
      "STARTED: oasislmf.cmd.model.run\n",
      "FINISHED: oasislmf.cmd.model.run in 7.14s\n",
      "\n",
      "Loss outputs generated in /tmp/run/output\n"
     ]
    }
   ],
   "source": [
    "! rm -rf /tmp/run\n",
    "! oasislmf model run \\\n",
    "    -k \"keys_data/PiWind\" \\\n",
    "    -v \"keys_data/PiWind/ModelVersion.csv\" \\\n",
    "    -l \"src/keys_server\" \\\n",
    "    -p \"oasislmf-piwind-canonical-loc-profile.json\" \\\n",
    "    -e \"tests/data/SourceLocPiWind10K.csv\" \\\n",
    "    -a \"flamingo/PiWind/Files/ValidationFiles/Generic_Windstorm_SourceLoc.xsd\" \\\n",
    "    -b \"flamingo/PiWind/Files/TransformationFiles/MappingMapToGeneric_Windstorm_CanLoc_A.xslt\" \\\n",
    "    -c \"flamingo/PiWind/Files/ValidationFiles/Generic_Windstorm_CanLoc_B.xsd\" \\\n",
    "    -d \"flamingo/PiWind/Files/TransformationFiles/MappingMapTopiwind_modelloc.xslt\" \\\n",
    "    -j \"analysis_settings.json\" \\\n",
    "    -m \"model_data/PiWind\" \\\n",
    "    -r \"/tmp/run\"\n"
   ]
  },
  {
   "cell_type": "code",
   "execution_count": 18,
   "metadata": {},
   "outputs": [
    {
     "name": "stdout",
     "output_type": "stream",
     "text": [
      "{\n",
      " \"source_exposures_file_path\": \"tests/data/SourceLocPiWind10K.csv\",\n",
      " \"source_exposures_validation_file_path\": \"flamingo/PiWind/Files/ValidationFiles/Generic_Windstorm_SourceLoc.xsd\",\n",
      " \"source_to_canonical_exposures_transformation_file_path\": \"flamingo/PiWind/Files/TransformationFiles/MappingMapToGeneric_Windstorm_CanLoc_A.xslt\",\n",
      " \"canonical_exposures_profile_json_path\": \"oasislmf-piwind-canonical-loc-profile.json\",\n",
      " \"canonical_exposures_validation_file_path\": \"flamingo/PiWind/Files/ValidationFiles/Generic_Windstorm_CanLoc_B.xsd\",\n",
      " \"canonical_to_model_exposures_transformation_file_path\": \"flamingo/PiWind/Files/TransformationFiles/MappingMapTopiwind_modelloc.xslt\",\n",
      " \"lookup_package_path\": \"src/keys_server\",\n",
      " \"keys_data_path\": \"keys_data/PiWind\",\n",
      " \"model_version_file_path\": \"keys_data/PiWind/ModelVersion.csv\",\n",
      " \"model_data_path\": \"model_data/PiWind\",\n",
      " \"analysis_settings_json_file_path\": \"analysis_settings.json\",\n",
      " \"lookup_config_file_path\": \"src/keys_server/PiWind/oasislmf-piwind-0.0.0.1-lookup.json\"\n",
      "}\n"
     ]
    }
   ],
   "source": [
    "with open('./oasislmf.json', 'r') as myfile:\n",
    "    analysis_settings=json.loads(myfile.read().replace('\\n', ''))\n",
    "print(json.dumps(analysis_settings, indent=True))"
   ]
  },
  {
   "cell_type": "code",
   "execution_count": 33,
   "metadata": {},
   "outputs": [
    {
     "name": "stdout",
     "output_type": "stream",
     "text": [
      "Creating temporary folder /tmp/analysis_test/tmp for Oasis files\n",
      "Getting model info and creating lookup service instance\n",
      "STARTED: keys_server.PiWind.PiWindKeysLookup.__init__\n",
      "STARTED: oasislmf.keys.lookup.__init__\n",
      "COMPLETED: oasislmf.keys.lookup.__init__ in 0.0s\n",
      "COMPLETED: keys_server.PiWind.PiWindKeysLookup.__init__ in 0.05s\n",
      "\tOrderedDict([('supplier_id', 'OasisLMF'), ('model_id', 'PiWind'), ('model_version_id', '0.0.0.1')]), <keys_server.PiWind.PiWindKeysLookup.PiWindKeysLookup object at 0x7f1a4b3d4be0>\n",
      "Creating Oasis model object\n",
      "\t<class 'oasislmf.models.model.OasisModel'>: {'_supplier_id': 'OasisLMF', '_model_id': 'PiWind', '_model_version_id': '0.0.0.1', '_key': 'OasisLMF/PiWind/0.0.0.1', '_resources': {'lookup': <keys_server.PiWind.PiWindKeysLookup.PiWindKeysLookup object at 0x7f1a4b3d4be0>, 'oasis_files_path': '/tmp/analysis_test/tmp', 'source_exposures_file_path': '/home/pinkerton/git/OasisPiWind/tests/data/SourceLocPiWind10K.csv', 'source_exposures_validation_file_path': '/home/pinkerton/git/OasisPiWind/flamingo/PiWind/Files/ValidationFiles/Generic_Windstorm_SourceLoc.xsd', 'source_to_canonical_exposures_transformation_file_path': '/home/pinkerton/git/OasisPiWind/flamingo/PiWind/Files/TransformationFiles/MappingMapToGeneric_Windstorm_CanLoc_A.xslt', 'canonical_exposures_profile_json_path': '/home/pinkerton/git/OasisPiWind/oasislmf-piwind-canonical-loc-profile.json', 'canonical_exposures_validation_file_path': '/home/pinkerton/git/OasisPiWind/flamingo/PiWind/Files/ValidationFiles/Generic_Windstorm_CanLoc_B.xsd', 'canonical_to_model_exposures_transformation_file_path': '/home/pinkerton/git/OasisPiWind/flamingo/PiWind/Files/TransformationFiles/MappingMapTopiwind_modelloc.xslt', 'oasis_files_pipeline': <class 'oasislmf.exposures.pipeline.OasisFilesPipeline'>: {'_model_key': 'OasisLMF/PiWind/0.0.0.1', '_source_exposures_file_path': None, '_canonical_exposures_file_path': None, '_model_exposures_file_path': None, '_keys_file_path': None, '_keys_errors_file_path': None, '_items_file_path': None, '_coverages_file_path': None, '_gulsummaryxref_file_path': None, '_oasis_files': {'items': None, 'coverages': None, 'gulsummaryxref': None}, '_file_paths': ('source_exposures_file_path', 'canonical_exposures_file_path', 'model_exposures_file_path', 'keys_file_path', 'keys_errors_file_path', 'items_file_path', 'coverages_file_path', 'gulsummaryxref_file_path')}, 'canonical_exposures_profile': {'ROW_ID': {'ProfileElementName': 'ROW_ID', 'FieldName': 'LocationID', 'ProfileType': 'Loc'}, 'ACCNTNUM': {'ProfileElementName': 'ACCNTNUM', 'FieldName': 'AccountNumber', 'ProfileType': 'Loc'}, 'LOCNUM': {}, 'POSTALCODE': {}, 'COUNTY': {}, 'COUNTYCODE': {}, 'CRESTA': {}, 'CITY': {}, 'CITYCODE': {}, 'STATE': {}, 'STATECODE': {}, 'ADDRMATCH': {}, 'COUNTRY': {}, 'COUNTRYGEOID': {}, 'CNTRYSCHEME': {}, 'CNTRYCODE': {}, 'LATITUDE': {}, 'LONGITUDE': {}, 'BLDGSCHEME': {}, 'BLDGCLASS': {}, 'OCCSCHEME': {}, 'OCCTYPE': {}, 'YEARBUILT': {}, 'YEARUPGRAD': {}, 'NUMSTORIES': {}, 'NUMBLDGS': {}, 'WSCV1VAL': {'ProfileElementName': 'WSCV1VAL', 'FieldName': 'TIV', 'PerilID': 1, 'CoverageTypeID': 1, 'FMLevelName': 'Coverage', 'FMLevel': 1, 'FMTermType': 'TIV', 'FMTermGroupID': 1, 'ProfileType': 'Loc'}, 'WSCV2VAL': {}, 'WSCV3VAL': {}, 'WSCV4VAL': {'ProfileElementName': 'WSCV4VAL', 'FieldName': 'TIV', 'PerilID': 1, 'CoverageTypeID': 1, 'FMLevelName': 'Coverage', 'FMLevel': 1, 'FMTermType': 'TIV', 'FMTermGroupID': 2, 'ProfileType': 'Loc'}, 'WSCV5VAL': {}, 'WSCV6VAL': {}, 'WSCV7VAL': {}, 'WSCV8VAL': {}, 'WSCV9VAL': {}, 'WSCV10VAL': {}, 'WSCV1LIMIT': {'ProfileElementName': 'WSCV1LIMIT', 'FieldName': 'CoverageLimit', 'PerilID': 1, 'CoverageTypeID': 1, 'FMLevelName': 'Coverage', 'FMLevel': 1, 'FMTermType': 'Limit', 'FMTermGroupID': 1, 'ProfileType': 'Loc'}, 'WSCV2LIMIT': {}, 'WSCV3LIMIT': {}, 'WSCV4LIMIT': {'ProfileElementName': 'WSCV4LIMIT', 'FieldName': 'CoverageLimit', 'PerilID': 1, 'CoverageTypeID': 1, 'FMLevelName': 'Coverage', 'FMLevel': 1, 'FMTermType': 'Limit', 'FMTermGroupID': 2, 'ProfileType': 'Loc'}, 'WSCV5LIMIT': {}, 'WSCV6LIMIT': {}, 'WSCV7LIMIT': {}, 'WSCV8LIMIT': {}, 'WSCV9LIMIT': {}, 'WSCV10LMT': {}, 'WSCV1DED': {'ProfileElementName': 'WSCV1DED', 'FieldName': 'CoverageDeductible', 'DeductibleType': 'B', 'PerilID': 1, 'CoverageTypeID': 1, 'FMLevelName': 'Coverage', 'FMLevel': 1, 'FMTermType': 'Deductible', 'FMTermGroupID': 1, 'ProfileType': 'Loc'}, 'WSCV2DED': {}, 'WSCV3DED': {}, 'WSCV4DED': {'ProfileElementName': 'WSCV4DED', 'FieldName': 'CoverageDeductible', 'DeductibleType': 'B', 'PerilID': 1, 'CoverageTypeID': 1, 'FMLevelName': 'Coverage', 'FMLevel': 1, 'FMTermType': 'Deductible', 'FMTermGroupID': 2, 'ProfileType': 'Loc'}, 'WSCV5DED': {}, 'WSCV6DED': {}, 'WSCV7DED': {}, 'WSCV8DED': {}, 'WSCV9DED': {}, 'WSCV10DED': {}, 'WSSITELIM': {'ProfileElementName': 'WSSITELIM', 'FieldName': 'SiteLimit', 'FMLevelName': 'Site', 'FMLevel': 3, 'FMTermType': 'Limit', 'FMTermGroupID': 1, 'ProfileType': 'Loc'}, 'WSSITEDED': {'ProfileElementName': 'WSSITEDED', 'FieldName': 'SiteDeductible', 'DeductibleType': 'B', 'FMLevelName': 'Site', 'FMLevel': 3, 'FMTermType': 'Deductible', 'FMTermGroupID': 1, 'ProfileType': 'Loc'}, 'WSCOMBINEDLIM': {'ProfileElementName': 'WSCOMBINEDLIM', 'FieldName': 'CombinedLimit', 'FMLevelName': 'Combined', 'FMLevel': 2, 'FMTermType': 'Limit', 'FMTermGroupID': 1, 'ProfileType': 'Loc'}, 'WSCOMBINEDDED': {'ProfileElementName': 'WSCOMBINEDDED', 'FieldName': 'CombinedDeductible', 'DeductibleType': 'B', 'FMLevelName': 'Combined', 'FMLevel': 2, 'FMTermType': 'Deductible', 'FMTermGroupID': 1, 'ProfileType': 'Loc'}, 'COND1TYPE': {}, 'COND1NAME': {'ProfileElementName': 'COND1NAME', 'FieldName': 'SubLimitReference'}, 'COND1DEDUCTIBLE': {'ProfileElementName': 'COND1DEDUCTIBLE', 'FieldName': 'SubLimitDeductible', 'DeductibleType': 'B', 'FMLevelName': 'Sublimit', 'FMLevel': 4, 'FMTermType': 'Deductible', 'FMTermGroupID': 1, 'ProfileType': 'Loc'}, 'COND1LIMIT': {'ProfileElementName': 'COND1LIMIT', 'FieldName': 'SubLimitLimit', 'FMLevelName': 'Sublimit', 'FMLevel': 4, 'FMTermType': 'Limit', 'FMTermGroupID': 1, 'ProfileType': 'Loc'}, 'ROOFGEOM': {}}}}: OasisLMF/PiWind/0.0.0.1\n",
      "Setting up Oasis files directory for model OasisLMF/PiWind/0.0.0.1\n",
      "Generating Oasis files for model\n",
      "Checking output files directory exists for model\n",
      "Checking for source exposures file\n",
      "Copying source exposures file to input files directory\n",
      "Generating canonical exposures file /tmp/analysis_test/tmp/canexp-20180624163444.csv\n",
      "Generating model exposures file /tmp/analysis_test/tmp/modexp-20180624163444.csv\n",
      "Generating keys file /tmp/analysis_test/tmp/oasiskeys-20180624163444.csv and keys error file /tmp/analysis_test/tmp/oasiskeys-errors-20180624163444.csv\n",
      "STARTED: keys_server.PiWind.PiWindKeysLookup.process_locations\n",
      "COMPLETED: keys_server.PiWind.PiWindKeysLookup.process_locations in 0.0s\n",
      "Generating Oasis files for model\n",
      "Generated Oasis files for model: {'items_file_path': '/tmp/analysis_test/tmp/items.csv', 'coverages_file_path': '/tmp/analysis_test/tmp/coverages.csv', 'gulsummaryxref_file_path': '/tmp/analysis_test/tmp/gulsummaryxref.csv'}\n",
      "Preparing model run directory /tmp/analysis_test - copying Oasis files, analysis settings JSON file and linking model data\n",
      "Converting Oasis files to ktools binary files\n",
      "Reading analysis settings JSON file\n",
      "Loaded analysis settings JSON: {'analysis_tag': 13, 'exposure_location': 'L:', 'gul_output': True, 'gul_summaries': [{'aalcalc': True, 'eltcalc': True, 'id': 1, 'lec_output': True, 'leccalc': {'outputs': {'full_uncertainty_aep': True, 'full_uncertainty_oep': True}, 'return_period_file': True}}], 'gul_threshold': 0, 'il_summaries': [], 'model_settings': {'event_set': 'P', 'peril_wind': True}, 'model_version_id': 'PiWind', 'module_supplier_id': 'OasisLMF', 'number_of_samples': 10, 'prog_id': 12, 'source_tag': 'piwind'}\n",
      "Preparing model run inputs\n",
      "STARTED: oasislmf.model_execution.runner.run\n",
      "COMPLETED: oasislmf.model_execution.runner.run in 7.38s\n",
      "Loss outputs generated in /tmp/analysis_test/output\n"
     ]
    }
   ],
   "source": [
    "! rm -rf /tmp/analysis_test\n",
    "! oasislmf model run -e \"tests/data/SourceLocPiWind10K.csv\" -r /tmp/analysis_test"
   ]
  },
  {
   "cell_type": "code",
   "execution_count": null,
   "metadata": {},
   "outputs": [],
   "source": []
  }
 ],
 "metadata": {
  "kernelspec": {
   "display_name": "OasisPiWind",
   "language": "python",
   "name": "oasispiwind"
  },
  "language_info": {
   "codemirror_mode": {
    "name": "ipython",
    "version": 3
   },
   "file_extension": ".py",
   "mimetype": "text/x-python",
   "name": "python",
   "nbconvert_exporter": "python",
   "pygments_lexer": "ipython3",
   "version": "3.6.4"
  }
 },
 "nbformat": 4,
 "nbformat_minor": 2
}
